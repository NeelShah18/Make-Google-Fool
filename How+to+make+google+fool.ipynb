{
 "cells": [
  {
   "cell_type": "markdown",
   "metadata": {},
   "source": [
    "#### How to make GOOGLE fool.\n",
    "\n",
    "In 2016, google update security polices. It means any program can not use google search service, if they are not genuien user. It means you are not able to peform **search** using any programm. Below is the example of it."
   ]
  },
  {
   "cell_type": "code",
   "execution_count": 2,
   "metadata": {
    "collapsed": false
   },
   "outputs": [
    {
     "name": "stdout",
     "output_type": "stream",
     "text": [
      "HTTP Error 403: Forbidden\n",
      "--Unsucessfull search--\n"
     ]
    }
   ],
   "source": [
    "import urllib.request\n",
    "import sys\n",
    "\n",
    "def main():\n",
    "    try:\n",
    "        x = urllib.request.urlopen('https://www.google.com/search?q=test')\n",
    "        print(x.read())\n",
    "    except Exception as e:\n",
    "        print(str(e))\n",
    "        print('--Unsucessfull search--')\n",
    "        \n",
    "\n",
    "if __name__=='__main__':\n",
    "    main()"
   ]
  },
  {
   "cell_type": "markdown",
   "metadata": {},
   "source": [
    "#### You can see the output above:\n",
    "\n",
    "It shows **HTTP Error : Forbidden** error. It means google block access of our program. So the question is **How they are blocking it?**\n",
    "\n",
    "Answer is very simple:\n",
    "\n",
    "* They are using filter to check the search request. It means when we request for search in above programm some detail are send to google server from which, google find out we use our own programm to use google service.\n",
    "\n",
    "* So what is that data, Simple answer ** It is our Header**. Means when we use above code, and request went to google, this programm say I am Python3.5 and want to search this.\n",
    "\n",
    "* Google create filter their which shows, if any request comes from Python3.5 or python or java or c etc... Block all the request because they are not human.\n"
   ]
  },
  {
   "cell_type": "markdown",
   "metadata": {},
   "source": [
    "#### So How make google fool:\n",
    "\n",
    "And the answer is very simple:\n",
    "\n",
    "* First, we know they are using some filter, and google filter only chck header of the request!\n",
    "\n",
    "* Now, Make some cool thought, If we change the header of the python program request than!!!!! ???\n",
    "\n",
    "* Yes, You think right, If we change the header of the request to Mozilla browzer request. Then google thinks we are user using mozill browzer.\n",
    "\n",
    "* Bingo!!!, It works and make google fool."
   ]
  },
  {
   "cell_type": "code",
   "execution_count": 4,
   "metadata": {
    "collapsed": false
   },
   "outputs": [
    {
     "name": "stdout",
     "output_type": "stream",
     "text": [
      "--Sucessfull Search--\n"
     ]
    }
   ],
   "source": [
    "import urllib.request\n",
    "import sys\n",
    "\n",
    "def main():\n",
    "    try:\n",
    "        url = 'https://www.google.com/search?q=test'\n",
    "        #empty headers dictoniary\n",
    "        headers = {}\n",
    "        headers['User-Agent'] = 'Mozilla/5.0 (X11; Linux i686) AppleWebKit/537.17 (KHTML, like Gecko) Chrome/24.0.1312.27 Safari/537.17'\n",
    "        req = urllib.request.Request(url, headers=headers)\n",
    "        res = urllib.request.urlopen(req)\n",
    "        resData = res.read()\n",
    "        '''\n",
    "        Headers = Cheange the default header to Mozilla Header\n",
    "        User-Agent is the dictoniry key for headers\n",
    "        resData Contains the search result.\n",
    "        '''\n",
    "        #To print data please use below comment code:\n",
    "        #print(resData)\n",
    "        \n",
    "        print('--Sucessfull Search--')\n",
    "        \n",
    "    except Exception as e:\n",
    "        print(str(e))\n",
    "        print(\"--Unsecessfull search--\")\n",
    "\n",
    "if __name__=='__main__':\n",
    "    main()"
   ]
  },
  {
   "cell_type": "markdown",
   "metadata": {},
   "source": [
    "## Congo!!! You fool the google.\n",
    "\n",
    "### Tutorial By Neel Shah\n",
    "\n",
    "my website: [Neel Shah - Click Here!](https://neelshah18.github.io/)"
   ]
  }
 ],
 "metadata": {
  "kernelspec": {
   "display_name": "Python 3",
   "language": "python",
   "name": "python3"
  },
  "language_info": {
   "codemirror_mode": {
    "name": "ipython",
    "version": 3
   },
   "file_extension": ".py",
   "mimetype": "text/x-python",
   "name": "python",
   "nbconvert_exporter": "python",
   "pygments_lexer": "ipython3",
   "version": "3.6.0"
  }
 },
 "nbformat": 4,
 "nbformat_minor": 2
}
